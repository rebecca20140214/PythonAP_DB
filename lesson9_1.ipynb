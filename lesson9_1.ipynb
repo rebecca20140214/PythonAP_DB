{
 "cells": [
  {
   "cell_type": "code",
   "execution_count": 2,
   "metadata": {},
   "outputs": [
    {
     "name": "stdout",
     "output_type": "stream",
     "text": [
      "徐國堂\n",
      "78\n",
      "92\n",
      "91\n"
     ]
    }
   ],
   "source": [
    "#使用dictionary建立一筆資料\n",
    "#建立dict的實體\n",
    "student:dict[str,any] = {\n",
    "    'name':'徐國堂',\n",
    "    '國文':78,\n",
    "    '英文':92,\n",
    "    '數學':91\n",
    "}\n",
    "print(student['name'])\n",
    "print(student['國文'])\n",
    "print(student['英文'])\n",
    "print(student['數學'])"
   ]
  },
  {
   "cell_type": "code",
   "execution_count": 24,
   "metadata": {},
   "outputs": [
    {
     "name": "stdout",
     "output_type": "stream",
     "text": [
      "10\n",
      "20\n",
      "30\n"
     ]
    }
   ],
   "source": [
    "#建立list實體\n",
    "\n",
    "values:list[int] = [10, 20, 30]\n",
    "print(values[0])\n",
    "print(values[1])\n",
    "print(values[2])"
   ]
  },
  {
   "cell_type": "code",
   "execution_count": 25,
   "metadata": {},
   "outputs": [
    {
     "name": "stdout",
     "output_type": "stream",
     "text": [
      "10\n",
      "20\n",
      "30\n"
     ]
    }
   ],
   "source": [
    "values:list[int] = [10, 20, 30]\n",
    "for value in values:\n",
    "    print(value)"
   ]
  },
  {
   "cell_type": "code",
   "execution_count": 26,
   "metadata": {},
   "outputs": [
    {
     "name": "stdout",
     "output_type": "stream",
     "text": [
      "<class 'str'>\n",
      "key=name\n",
      "value=徐國堂\n",
      "=========\n",
      "<class 'str'>\n",
      "key=國文\n",
      "value=78\n",
      "=========\n",
      "<class 'str'>\n",
      "key=英文\n",
      "value=92\n",
      "=========\n",
      "<class 'str'>\n",
      "key=數學\n",
      "value=91\n",
      "=========\n"
     ]
    }
   ],
   "source": [
    "student:dict[str,any] = {\n",
    "    'name':'徐國堂',\n",
    "    '國文':78,\n",
    "    '英文':92,\n",
    "    '數學':91\n",
    "}\n",
    "\n",
    "for key in student:\n",
    "    print(type(key))\n",
    "    print(f'key={key}')\n",
    "    print(f'value={student[key]}')\n",
    "    print(\"=========\")"
   ]
  },
  {
   "cell_type": "code",
   "execution_count": 27,
   "metadata": {},
   "outputs": [
    {
     "name": "stdout",
     "output_type": "stream",
     "text": [
      "404\n",
      "沒有網頁發現\n"
     ]
    }
   ],
   "source": [
    "#tupe的拆解法\n",
    "code, error = 404,'沒有網頁發現'\n",
    "print(code)\n",
    "print(error)"
   ]
  },
  {
   "cell_type": "code",
   "execution_count": 28,
   "metadata": {},
   "outputs": [
    {
     "name": "stdout",
     "output_type": "stream",
     "text": [
      "索引編號:0\n",
      "值是:10\n",
      "===========\n",
      "索引編號:1\n",
      "值是:20\n",
      "===========\n",
      "索引編號:2\n",
      "值是:30\n",
      "===========\n"
     ]
    }
   ],
   "source": [
    "values:list[int] = [10, 20, 30]\n",
    "for idx,value in enumerate(values):\n",
    "    print(f'索引編號:{idx}')\n",
    "    print(f'值是:{value}')\n",
    "    print(\"===========\")"
   ]
  },
  {
   "cell_type": "code",
   "execution_count": 29,
   "metadata": {},
   "outputs": [
    {
     "data": {
      "text/plain": [
       "{'name': '徐國堂', '國文': 78, '英文': 92, '數學': 91}"
      ]
     },
     "execution_count": 29,
     "metadata": {},
     "output_type": "execute_result"
    }
   ],
   "source": [
    "student:dict[str,any] = {\n",
    "    'name':'徐國堂',\n",
    "    '國文':78,\n",
    "    '英文':92,\n",
    "    '數學':91\n",
    "}\n",
    "student"
   ]
  },
  {
   "cell_type": "code",
   "execution_count": 30,
   "metadata": {},
   "outputs": [
    {
     "name": "stdout",
     "output_type": "stream",
     "text": [
      "name\n",
      "國文\n",
      "英文\n",
      "數學\n"
     ]
    }
   ],
   "source": [
    "for key in student.keys():\n",
    "    print(key)"
   ]
  },
  {
   "cell_type": "code",
   "execution_count": 31,
   "metadata": {},
   "outputs": [
    {
     "name": "stdout",
     "output_type": "stream",
     "text": [
      "徐國堂\n",
      "78\n",
      "92\n",
      "91\n"
     ]
    }
   ],
   "source": [
    "for value in student.values():\n",
    "    print(value)"
   ]
  },
  {
   "cell_type": "code",
   "execution_count": 32,
   "metadata": {},
   "outputs": [
    {
     "name": "stdout",
     "output_type": "stream",
     "text": [
      "name\n",
      "徐國堂\n",
      "==========\n",
      "國文\n",
      "78\n",
      "==========\n",
      "英文\n",
      "92\n",
      "==========\n",
      "數學\n",
      "91\n",
      "==========\n"
     ]
    }
   ],
   "source": [
    "for key,value in student.items():\n",
    "    print(key)\n",
    "    print(value)\n",
    "    \n",
    "    print(\"==========\")"
   ]
  },
  {
   "cell_type": "code",
   "execution_count": 34,
   "metadata": {},
   "outputs": [],
   "source": [
    "students:list[dict] = [\n",
    "    {'name': '李雅琴', '國文': 78, '英文': 92, '數學': 91},\n",
    "    {'name': 'Rebecca', '國文': 78, '英文': 92, '數學': 91},\n",
    "    {'name': 'Nova', '國文': 78, '英文': 92, '數學': 91}\n",
    "]"
   ]
  },
  {
   "cell_type": "code",
   "execution_count": 35,
   "metadata": {},
   "outputs": [
    {
     "name": "stdout",
     "output_type": "stream",
     "text": [
      "key=name,value=李雅琴\n",
      "key=國文,value=78\n",
      "key=英文,value=92\n",
      "key=數學,value=91\n",
      "====================\n",
      "key=name,value=Rebecca\n",
      "key=國文,value=78\n",
      "key=英文,value=92\n",
      "key=數學,value=91\n",
      "====================\n",
      "key=name,value=Nova\n",
      "key=國文,value=78\n",
      "key=英文,value=92\n",
      "key=數學,value=91\n",
      "====================\n"
     ]
    }
   ],
   "source": [
    "for student in students:\n",
    "    for key,value in student.items():\n",
    "        print(f'key={key},value={value}')\n",
    "\n",
    "    print(\"====================\")"
   ]
  },
  {
   "cell_type": "code",
   "execution_count": 36,
   "metadata": {},
   "outputs": [],
   "source": [
    "def say_hello(name):\n",
    "    print(f'Hello,{name}')"
   ]
  },
  {
   "cell_type": "code",
   "execution_count": 16,
   "metadata": {},
   "outputs": [
    {
     "name": "stdout",
     "output_type": "stream",
     "text": [
      "HelloRebecca\n"
     ]
    }
   ],
   "source": [
    "say_hello('Rebecca')"
   ]
  },
  {
   "cell_type": "code",
   "execution_count": 37,
   "metadata": {},
   "outputs": [
    {
     "name": "stdout",
     "output_type": "stream",
     "text": [
      "Hello,Rebecca\n"
     ]
    }
   ],
   "source": [
    "say_hello(name='Rebecca')"
   ]
  },
  {
   "cell_type": "code",
   "execution_count": null,
   "metadata": {},
   "outputs": [],
   "source": []
  },
  {
   "cell_type": "code",
   "execution_count": 46,
   "metadata": {},
   "outputs": [],
   "source": [
    "def menu(wine:str,entree:str,dessert:str)->dict[str,str]:\n",
    "    #print(f'前酒{wine}')\n",
    "    #print(f'主餐{entree}')\n",
    "    #print(f'甜點{dessert}')\n",
    "    return{'前酒':wine,'主餐':entree,'甜點':dessert}"
   ]
  },
  {
   "cell_type": "code",
   "execution_count": 39,
   "metadata": {},
   "outputs": [
    {
     "name": "stdout",
     "output_type": "stream",
     "text": [
      "前酒白酒\n",
      "主餐牛排\n",
      "甜點蛋糕\n"
     ]
    }
   ],
   "source": [
    "menu('白酒','牛排','蛋糕')"
   ]
  },
  {
   "cell_type": "code",
   "execution_count": 40,
   "metadata": {},
   "outputs": [
    {
     "name": "stdout",
     "output_type": "stream",
     "text": [
      "前酒白酒\n",
      "主餐牛排\n",
      "甜點蛋糕\n"
     ]
    }
   ],
   "source": [
    "menu(entree='牛排',dessert='蛋糕',wine='白酒')"
   ]
  },
  {
   "cell_type": "code",
   "execution_count": 47,
   "metadata": {},
   "outputs": [
    {
     "data": {
      "text/plain": [
       "{'前酒': '白酒', '主餐': '牛排', '甜點': '蛋糕'}"
      ]
     },
     "execution_count": 47,
     "metadata": {},
     "output_type": "execute_result"
    }
   ],
   "source": [
    "my_menu = menu(entree='牛排',dessert='蛋糕',wine='白酒')\n",
    "my_menu"
   ]
  }
 ],
 "metadata": {
  "kernelspec": {
   "display_name": "base",
   "language": "python",
   "name": "python3"
  },
  "language_info": {
   "codemirror_mode": {
    "name": "ipython",
    "version": 3
   },
   "file_extension": ".py",
   "mimetype": "text/x-python",
   "name": "python",
   "nbconvert_exporter": "python",
   "pygments_lexer": "ipython3",
   "version": "3.10.13"
  }
 },
 "nbformat": 4,
 "nbformat_minor": 2
}
