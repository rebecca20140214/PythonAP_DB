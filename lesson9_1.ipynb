{
 "cells": [
  {
   "cell_type": "code",
   "execution_count": 2,
   "metadata": {},
   "outputs": [
    {
     "name": "stdout",
     "output_type": "stream",
     "text": [
      "徐國堂\n",
      "78\n",
      "92\n",
      "91\n"
     ]
    }
   ],
   "source": [
    "#使用dictionary建立一筆資料\n",
    "#建立dict的實體\n",
    "student:dict[str,any] = {\n",
    "    'name':'徐國堂',\n",
    "    '國文':78,\n",
    "    '英文':92,\n",
    "    '數學':91\n",
    "}\n",
    "print(student['name'])\n",
    "print(student['國文'])\n",
    "print(student['英文'])\n",
    "print(student['數學'])"
   ]
  },
  {
   "cell_type": "code",
   "execution_count": 3,
   "metadata": {},
   "outputs": [
    {
     "name": "stdout",
     "output_type": "stream",
     "text": [
      "10\n",
      "20\n",
      "30\n"
     ]
    }
   ],
   "source": [
    "#建立list實體\n",
    "\n",
    "values:list[int] = [10, 20, 30]\n",
    "print(values[0])\n",
    "print(values[1])\n",
    "print(values[2])"
   ]
  }
 ],
 "metadata": {
  "kernelspec": {
   "display_name": "base",
   "language": "python",
   "name": "python3"
  },
  "language_info": {
   "codemirror_mode": {
    "name": "ipython",
    "version": 3
   },
   "file_extension": ".py",
   "mimetype": "text/x-python",
   "name": "python",
   "nbconvert_exporter": "python",
   "pygments_lexer": "ipython3",
   "version": "3.12.2"
  }
 },
 "nbformat": 4,
 "nbformat_minor": 2
}
