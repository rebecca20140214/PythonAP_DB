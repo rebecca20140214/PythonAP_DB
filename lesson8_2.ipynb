{
 "cells": [
  {
   "cell_type": "code",
   "execution_count": 8,
   "metadata": {},
   "outputs": [],
   "source": [
    "students =[{'name':'rebecca','chinese':'78','match':'79','english':'80'},\n",
    "           {'name':'rebecca','chinese':'78','match':'79','english':'80'},\n",
    "           {'name':'rebecca','chinese':'78','match':'79','english':'80'}]\n",
    "\n",
    "\n",
    "\n"
   ]
  },
  {
   "cell_type": "code",
   "execution_count": 10,
   "metadata": {},
   "outputs": [
    {
     "name": "stdout",
     "output_type": "stream",
     "text": [
      "rebecca\n",
      "78\n",
      "79\n",
      "80\n",
      "=======\n",
      "rebecca\n",
      "78\n",
      "79\n",
      "80\n",
      "=======\n",
      "rebecca\n",
      "78\n",
      "79\n",
      "80\n",
      "=======\n"
     ]
    }
   ],
   "source": [
    "for student in students:\n",
    "    #print(student)\n",
    "    for key in student:\n",
    "        print(student[key])\n",
    "    print(\"=======\")"
   ]
  }
 ],
 "metadata": {
  "kernelspec": {
   "display_name": "Python 3",
   "language": "python",
   "name": "python3"
  },
  "language_info": {
   "codemirror_mode": {
    "name": "ipython",
    "version": 3
   },
   "file_extension": ".py",
   "mimetype": "text/x-python",
   "name": "python",
   "nbconvert_exporter": "python",
   "pygments_lexer": "ipython3",
   "version": "3.10.13"
  }
 },
 "nbformat": 4,
 "nbformat_minor": 2
}
