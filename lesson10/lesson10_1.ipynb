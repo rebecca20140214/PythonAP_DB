{
 "cells": [
  {
   "cell_type": "code",
   "execution_count": 12,
   "metadata": {},
   "outputs": [
    {
     "name": "stdout",
     "output_type": "stream",
     "text": [
      "<class '_io.TextIOWrapper'>\n",
      "False\n",
      "True\n"
     ]
    }
   ],
   "source": [
    "#讀取name.txt\n",
    "file = open('names.txt',encoding='utf-8')\n",
    "\n",
    "print(type(file))\n",
    "\n",
    "#for d in file:\n",
    "#    print(d)\n",
    "\n",
    "print(file.closed) #屬生\n",
    "file.close() #方法\n",
    "print(file.closed)\n"
   ]
  }
 ],
 "metadata": {
  "kernelspec": {
   "display_name": "base",
   "language": "python",
   "name": "python3"
  },
  "language_info": {
   "codemirror_mode": {
    "name": "ipython",
    "version": 3
   },
   "file_extension": ".py",
   "mimetype": "text/x-python",
   "name": "python",
   "nbconvert_exporter": "python",
   "pygments_lexer": "ipython3",
   "version": "3.12.2"
  }
 },
 "nbformat": 4,
 "nbformat_minor": 2
}
